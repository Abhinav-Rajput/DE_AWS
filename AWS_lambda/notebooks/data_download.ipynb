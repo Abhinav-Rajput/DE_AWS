{
 "cells": [
  {
   "cell_type": "code",
   "execution_count": 5,
   "metadata": {},
   "outputs": [],
   "source": [
    "import requests\n",
    "res = requests.get('https://data.gharchive.org/2022-06-05-0.json.gz')\n",
    "\n",
    "\n",
    "file_name = '2022-06-05-0.json.gz'\n",
    "file = open(f'data/{file_name}', 'wb')\n",
    "\n",
    "file.write(res.content)\n",
    "\n",
    "file.close()\n"
   ]
  },
  {
   "cell_type": "code",
   "execution_count": 6,
   "metadata": {},
   "outputs": [
    {
     "name": "stdout",
     "output_type": "stream",
     "text": [
      "total 66392\n",
      "-rw-r--r--  1 abhinavsingh  staff  33989636 Mar 19 17:44 2022-06-05-0.json.gz\n"
     ]
    }
   ],
   "source": [
    "!ls -ltr data"
   ]
  },
  {
   "cell_type": "code",
   "execution_count": 8,
   "metadata": {},
   "outputs": [
    {
     "data": {
      "text/plain": [
       "(89443, 8)"
      ]
     },
     "execution_count": 8,
     "metadata": {},
     "output_type": "execute_result"
    }
   ],
   "source": [
    "import pandas as pd\n",
    "\n",
    "df = pd.read_json('data/2022-06-05-0.json.gz',lines=True)\n",
    "df.shape"
   ]
  },
  {
   "cell_type": "code",
   "execution_count": 16,
   "metadata": {},
   "outputs": [
    {
     "name": "stdout",
     "output_type": "stream",
     "text": [
      "vscode1\n",
      "vscode1\n",
      "cdktoolkit-stagingbucket-1xdz6fss1lygm\n",
      "vscodeaidemoabhinav\n"
     ]
    }
   ],
   "source": [
    "import boto3\n",
    "import os\n",
    "\n",
    "print(os.environ.get(\"AWS_PROFILE\"))\n",
    "os.environ.setdefault(\"AWS_PROFILE\",\"vscode1\")\n",
    "print(os.environ.get(\"AWS_PROFILE\"))\n",
    "\n",
    "s3_client = boto3.client('s3')\n",
    "\n",
    "for bucket in s3_client.list_buckets()['Buckets']:\n",
    "    print(bucket['Name'])"
   ]
  },
  {
   "cell_type": "code",
   "execution_count": 29,
   "metadata": {},
   "outputs": [
    {
     "name": "stdout",
     "output_type": "stream",
     "text": [
      "cdktoolkit-stagingbucket-1xdz6fss1lygm\n",
      "vscodeaidemoabhinav\n",
      "zxghactivity\n"
     ]
    }
   ],
   "source": [
    "bucket_prefix='zx'\n",
    "s3_client.create_bucket(Bucket=f'{bucket_prefix}ghactivity')\n",
    "for bucket in s3_client.list_buckets()['Buckets']:\n",
    "    print(bucket['Name'])"
   ]
  }
 ],
 "metadata": {
  "kernelspec": {
   "display_name": "Python 3.11.2 ('venv_de': venv)",
   "language": "python",
   "name": "python3"
  },
  "language_info": {
   "codemirror_mode": {
    "name": "ipython",
    "version": 3
   },
   "file_extension": ".py",
   "mimetype": "text/x-python",
   "name": "python",
   "nbconvert_exporter": "python",
   "pygments_lexer": "ipython3",
   "version": "3.11.2"
  },
  "orig_nbformat": 4,
  "vscode": {
   "interpreter": {
    "hash": "d0c511cc2fcdf074dfb455d12b690351518f21f8a85644747adb778700216a93"
   }
  }
 },
 "nbformat": 4,
 "nbformat_minor": 2
}
