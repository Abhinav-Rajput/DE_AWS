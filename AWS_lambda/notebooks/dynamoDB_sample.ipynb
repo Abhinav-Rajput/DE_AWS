{
 "cells": [
  {
   "cell_type": "code",
   "execution_count": 1,
   "metadata": {},
   "outputs": [
    {
     "name": "stdout",
     "output_type": "stream",
     "text": [
      "{'TableNames': [], 'ResponseMetadata': {'RequestId': 'V84K1PPDATTMCQ5CT2JQ9Q4I63VV4KQNSO5AEMVJF66Q9ASUAAJG', 'HTTPStatusCode': 200, 'HTTPHeaders': {'server': 'Server', 'date': 'Sun, 19 Mar 2023 22:54:20 GMT', 'content-type': 'application/x-amz-json-1.0', 'content-length': '17', 'connection': 'keep-alive', 'x-amzn-requestid': 'V84K1PPDATTMCQ5CT2JQ9Q4I63VV4KQNSO5AEMVJF66Q9ASUAAJG', 'x-amz-crc32': '1315925753'}, 'RetryAttempts': 0}}\n",
      "False\n",
      "{'TableDescription': {'AttributeDefinitions': [{'AttributeName': 'job_id', 'AttributeType': 'S'}], 'TableName': 'jobs', 'KeySchema': [{'AttributeName': 'job_id', 'KeyType': 'HASH'}], 'TableStatus': 'CREATING', 'CreationDateTime': datetime.datetime(2023, 3, 19, 18, 54, 20, 272000, tzinfo=tzlocal()), 'ProvisionedThroughput': {'NumberOfDecreasesToday': 0, 'ReadCapacityUnits': 0, 'WriteCapacityUnits': 0}, 'TableSizeBytes': 0, 'ItemCount': 0, 'TableArn': 'arn:aws:dynamodb:us-east-1:163095335763:table/jobs', 'TableId': 'af6a9a7d-8c90-47d0-9f08-18c684ae5b00', 'BillingModeSummary': {'BillingMode': 'PAY_PER_REQUEST'}}, 'ResponseMetadata': {'RequestId': 'NM6U4P226I8T4L8RPJK3HM8REBVV4KQNSO5AEMVJF66Q9ASUAAJG', 'HTTPStatusCode': 200, 'HTTPHeaders': {'server': 'Server', 'date': 'Sun, 19 Mar 2023 22:54:20 GMT', 'content-type': 'application/x-amz-json-1.0', 'content-length': '636', 'connection': 'keep-alive', 'x-amzn-requestid': 'NM6U4P226I8T4L8RPJK3HM8REBVV4KQNSO5AEMVJF66Q9ASUAAJG', 'x-amz-crc32': '1378491125'}, 'RetryAttempts': 0}}\n",
      "{'TableNames': ['jobs'], 'ResponseMetadata': {'RequestId': 'FBBO0DGFETT9JTL9DBMKO2LIL3VV4KQNSO5AEMVJF66Q9ASUAAJG', 'HTTPStatusCode': 200, 'HTTPHeaders': {'server': 'Server', 'date': 'Sun, 19 Mar 2023 22:54:20 GMT', 'content-type': 'application/x-amz-json-1.0', 'content-length': '23', 'connection': 'keep-alive', 'x-amzn-requestid': 'FBBO0DGFETT9JTL9DBMKO2LIL3VV4KQNSO5AEMVJF66Q9ASUAAJG', 'x-amz-crc32': '312962171'}, 'RetryAttempts': 0}}\n",
      "{'Table': {'AttributeDefinitions': [{'AttributeName': 'job_id', 'AttributeType': 'S'}], 'TableName': 'jobs', 'KeySchema': [{'AttributeName': 'job_id', 'KeyType': 'HASH'}], 'TableStatus': 'CREATING', 'CreationDateTime': datetime.datetime(2023, 3, 19, 18, 54, 20, 272000, tzinfo=tzlocal()), 'ProvisionedThroughput': {'NumberOfDecreasesToday': 0, 'ReadCapacityUnits': 0, 'WriteCapacityUnits': 0}, 'TableSizeBytes': 0, 'ItemCount': 0, 'TableArn': 'arn:aws:dynamodb:us-east-1:163095335763:table/jobs', 'TableId': 'af6a9a7d-8c90-47d0-9f08-18c684ae5b00', 'BillingModeSummary': {'BillingMode': 'PAY_PER_REQUEST'}}, 'ResponseMetadata': {'RequestId': '401QVK9BTDR11TO8R6OF3DQ8OBVV4KQNSO5AEMVJF66Q9ASUAAJG', 'HTTPStatusCode': 200, 'HTTPHeaders': {'server': 'Server', 'date': 'Sun, 19 Mar 2023 22:54:20 GMT', 'content-type': 'application/x-amz-json-1.0', 'content-length': '625', 'connection': 'keep-alive', 'x-amzn-requestid': '401QVK9BTDR11TO8R6OF3DQ8OBVV4KQNSO5AEMVJF66Q9ASUAAJG', 'x-amz-crc32': '2829452514'}, 'RetryAttempts': 0}}\n"
     ]
    }
   ],
   "source": [
    "import boto3,os \n",
    "\n",
    "os.environ.setdefault(\"AWS_PROFILE\",\"vscode1\")\n",
    "\n",
    "\n",
    "dynamo_client = boto3.client('dynamodb')   # printing table-names\n",
    "print(dynamo_client.list_tables())\n",
    "\n",
    "tables = dynamo_client.list_tables()['TableNames']\n",
    "\n",
    "print('jobs' in tables) # check if 'Jobs' table is Present\n",
    "\n",
    "if 'jobs' not in tables:\n",
    "    response = dynamo_client.create_table(\n",
    "        AttributeDefinitions=[\n",
    "            {\n",
    "                'AttributeName': 'job_id',\n",
    "                'AttributeType': 'S'\n",
    "            }\n",
    "        ],\n",
    "        TableName='jobs',\n",
    "        KeySchema=[\n",
    "            {\n",
    "              'AttributeName': 'job_id',\n",
    "              'KeyType': 'HASH'\n",
    "            },\n",
    "        ],\n",
    "        BillingMode='PAY_PER_REQUEST'\n",
    "    )\n",
    "\n",
    "    print(response)\n",
    "    \n",
    "\n",
    "print(dynamo_client.list_tables())\n",
    "\n",
    "print(dynamo_client.describe_table(TableName='jobs'))\n",
    "\n"
   ]
  },
  {
   "cell_type": "code",
   "execution_count": null,
   "metadata": {},
   "outputs": [],
   "source": []
  }
 ],
 "metadata": {
  "kernelspec": {
   "display_name": "Python 3.11.2 ('venv_de': venv)",
   "language": "python",
   "name": "python3"
  },
  "language_info": {
   "codemirror_mode": {
    "name": "ipython",
    "version": 3
   },
   "file_extension": ".py",
   "mimetype": "text/x-python",
   "name": "python",
   "nbconvert_exporter": "python",
   "pygments_lexer": "ipython3",
   "version": "3.11.2"
  },
  "orig_nbformat": 4,
  "vscode": {
   "interpreter": {
    "hash": "d0c511cc2fcdf074dfb455d12b690351518f21f8a85644747adb778700216a93"
   }
  }
 },
 "nbformat": 4,
 "nbformat_minor": 2
}
